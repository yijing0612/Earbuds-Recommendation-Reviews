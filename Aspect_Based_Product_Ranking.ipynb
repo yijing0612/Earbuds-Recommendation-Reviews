{
  "cells": [
    {
      "cell_type": "markdown",
      "id": "xra-1f3G0AaX",
      "metadata": {
        "id": "xra-1f3G0AaX"
      },
      "source": [
        "**Import Modules**"
      ]
    },
    {
      "cell_type": "code",
      "execution_count": 1,
      "id": "c01c155a",
      "metadata": {
        "id": "c01c155a"
      },
      "outputs": [],
      "source": [
        "import numpy as np\n",
        "import scipy.sparse as ss\n",
        "import pickle\n",
        "from corextopic import corextopic as ct\n",
        "from sklearn.feature_extraction.text import CountVectorizer\n",
        "import pandas as pd\n",
        "from ast import literal_eval\n",
        "import joblib\n",
        "import tensorflow as tf\n",
        "import nltk\n",
        "from nltk.corpus import stopwords\n",
        "from  nltk.stem import SnowballStemmer\n",
        "import re\n",
        "from tensorflow.keras.preprocessing.text import Tokenizer\n",
        "from tensorflow.keras.preprocessing.sequence import pad_sequences\n",
        "import matplotlib.pyplot as plt"
      ]
    },
    {
      "cell_type": "code",
      "execution_count": null,
      "id": "uK6CXEyeHQOK",
      "metadata": {
        "colab": {
          "base_uri": "https://localhost:8080/"
        },
        "id": "uK6CXEyeHQOK",
        "outputId": "65de6c6f-0bc8-4ace-942c-d60418805446"
      },
      "outputs": [
        {
          "name": "stdout",
          "output_type": "stream",
          "text": [
            "2.14.0\n"
          ]
        }
      ],
      "source": [
        "print(tf.__version__)"
      ]
    },
    {
      "cell_type": "markdown",
      "id": "acTbb2oL0Dgo",
      "metadata": {
        "id": "acTbb2oL0Dgo"
      },
      "source": [
        "**Import Data**"
      ]
    },
    {
      "cell_type": "code",
      "execution_count": null,
      "id": "66818129",
      "metadata": {
        "id": "66818129"
      },
      "outputs": [],
      "source": [
        "data_anchored_corex = pd.read_csv(\"preprocessed_data.csv\")\n",
        "train_topics = pd.read_csv(\"Training Topics.csv\")\n",
        "df_anchored_corex = pd.DataFrame()"
      ]
    },
    {
      "cell_type": "code",
      "execution_count": null,
      "id": "a3b7384b",
      "metadata": {
        "id": "a3b7384b"
      },
      "outputs": [],
      "source": [
        "data_words_anchored_corex = []\n",
        "for x in data_anchored_corex['Clean']:\n",
        "    data_words_anchored_corex.append(' '.join(literal_eval(x)))\n",
        "keywords = []\n",
        "for x in train_topics['Keys']:\n",
        "    keywords.append(literal_eval(x))"
      ]
    },
    {
      "cell_type": "markdown",
      "id": "VdEeioG12UWC",
      "metadata": {
        "id": "VdEeioG12UWC"
      },
      "source": [
        "**Feature Extraction**"
      ]
    },
    {
      "cell_type": "code",
      "execution_count": null,
      "id": "a9990a36",
      "metadata": {
        "id": "a9990a36"
      },
      "outputs": [],
      "source": [
        "vectorizer_anchored_corex = CountVectorizer(stop_words='english', max_features=20000, binary=True)"
      ]
    },
    {
      "cell_type": "code",
      "execution_count": null,
      "id": "cb066e86",
      "metadata": {
        "id": "cb066e86"
      },
      "outputs": [],
      "source": [
        "doc_word_anchored_corex = vectorizer_anchored_corex.fit_transform(data_words_anchored_corex)\n",
        "doc_word_anchored_corex = ss.csr_matrix(doc_word_anchored_corex)"
      ]
    },
    {
      "cell_type": "code",
      "execution_count": null,
      "id": "c2d42a8b",
      "metadata": {
        "id": "c2d42a8b"
      },
      "outputs": [],
      "source": [
        "words = list(np.asarray(vectorizer_anchored_corex.get_feature_names_out()))"
      ]
    },
    {
      "cell_type": "markdown",
      "id": "12pbiMIi1B1S",
      "metadata": {
        "id": "12pbiMIi1B1S"
      },
      "source": [
        "**Anchored CorEx Model Training**"
      ]
    },
    {
      "cell_type": "code",
      "execution_count": null,
      "id": "b4fbb072",
      "metadata": {
        "id": "b4fbb072"
      },
      "outputs": [],
      "source": [
        "#Train the CorEx topic model with 10 topics\n",
        "topic_model_anchored_corex = ct.Corex(n_hidden=10, words=words, max_iter=1000, verbose=False, seed=2022)\n",
        "topic_model_anchored_corex.fit(doc_word_anchored_corex, words=words, anchors = keywords, anchor_strength=3);"
      ]
    },
    {
      "cell_type": "markdown",
      "id": "ImbPKJPA1HlY",
      "metadata": {
        "id": "ImbPKJPA1HlY"
      },
      "source": [
        "**Save Model and Extract Topics**"
      ]
    },
    {
      "cell_type": "code",
      "execution_count": null,
      "id": "83b07fbe",
      "metadata": {
        "id": "83b07fbe"
      },
      "outputs": [],
      "source": [
        "pickle.dump(topic_model_anchored_corex, open('Anchored_CorEx_Train_model.sav', 'wb'))\n",
        "topic_list_anchored_corex = topic_model_anchored_corex.get_topics()"
      ]
    },
    {
      "cell_type": "markdown",
      "id": "gYKmuvWQ1Gzj",
      "metadata": {
        "id": "gYKmuvWQ1Gzj"
      },
      "source": [
        "**Visualize Topics**"
      ]
    },
    {
      "cell_type": "code",
      "execution_count": null,
      "id": "a3edba9e",
      "metadata": {
        "id": "a3edba9e"
      },
      "outputs": [],
      "source": [
        "df_anchored_corex['Topics'] = topic_list_anchored_corex\n",
        "df_anchored_corex.to_csv('Anchored_CorEx_topics.csv')"
      ]
    },
    {
      "cell_type": "code",
      "execution_count": null,
      "id": "02a7b56f",
      "metadata": {
        "colab": {
          "base_uri": "https://localhost:8080/"
        },
        "id": "02a7b56f",
        "outputId": "2643c460-b5cd-4bd1-e162-2f2bca39611e"
      },
      "outputs": [
        {
          "name": "stdout",
          "output_type": "stream",
          "text": [
            "0: sound, quality, bass, good, great, price, clear, heavy, deep, amazing\n",
            "1: music, microphone, mic, voice, listen, hear, speak, phone, talk, listening\n",
            "2: battery, life, long, forever, hour, period, percentage, drain, usage, batter\n",
            "3: touch, tap, pause, song, track, skip, sensor, double, change, pauseplay\n",
            "4: control, touch, button, sensitive, sensor, volume, responsive, app, press, adjust\n",
            "5: noise, cancel, cancellation, cancelation, background, block, active, feature, ambient, reduction\n",
            "6: charge, long, fast, quickly, charger, case, charging, time, hold, cable\n",
            "7: ear, size, tip, fit, stay, bud, fall, include, miss, large\n",
            "8: use, connect, disconnect, device, bluetooth, leave, blue, work, easy, stop\n",
            "9: cheap, expensive, inexpensive, pro, airpod, reasonable, wireless, air, beat, apple\n"
          ]
        }
      ],
      "source": [
        "# Print all topics from the CorEx topic model\n",
        "anchored_corex_topics = topic_model_anchored_corex.get_topics()\n",
        "for n,topic in enumerate(anchored_corex_topics):\n",
        "    topic_words,_,_ = zip(*topic)\n",
        "    print('{}: '.format(n) + ', '.join(topic_words))"
      ]
    },
    {
      "cell_type": "markdown",
      "id": "-gbFYnWT1YkK",
      "metadata": {
        "id": "-gbFYnWT1YkK"
      },
      "source": [
        "**Aspect Labelling on Reviews**"
      ]
    },
    {
      "cell_type": "code",
      "execution_count": null,
      "id": "43557b29",
      "metadata": {
        "id": "43557b29"
      },
      "outputs": [],
      "source": [
        "# import preprocessed review\n",
        "data = pd.read_csv(\"preprocessed_data.csv\")\n",
        "aspect_list = [[],[],[],[],[],[],[],[],[],[]]\n",
        "words_set = []\n",
        "for x in data['Clean']:\n",
        "    words_set.append(set(literal_eval(x)))"
      ]
    },
    {
      "cell_type": "code",
      "execution_count": null,
      "id": "74ec244e",
      "metadata": {
        "id": "74ec244e"
      },
      "outputs": [],
      "source": [
        "# load trained CorEx model\n",
        "model = pickle.load(open(\"Anchored_CorEx_Train_model.sav\", 'rb'))"
      ]
    },
    {
      "cell_type": "code",
      "execution_count": null,
      "id": "cdacd36a",
      "metadata": {
        "id": "cdacd36a"
      },
      "outputs": [],
      "source": [
        "# label\n",
        "topic_list = []\n",
        "for i, topic_words in enumerate(model.get_topics()):\n",
        "      topic_list.append(set([words[0] for words in topic_words if words[1] > 0]))"
      ]
    },
    {
      "cell_type": "code",
      "execution_count": null,
      "id": "bd19dd7b",
      "metadata": {
        "id": "bd19dd7b"
      },
      "outputs": [],
      "source": [
        "for words in words_set:\n",
        "    for i,topic_words in enumerate(topic_list):\n",
        "        if (words & topic_words):\n",
        "            aspect_list[i].append(1)\n",
        "        else:\n",
        "            aspect_list[i].append(0)\n",
        "\n",
        "for i in range(10):\n",
        "    data['Topic ' + str(i)] = aspect_list[i]"
      ]
    },
    {
      "cell_type": "code",
      "execution_count": null,
      "id": "3cff027f",
      "metadata": {
        "id": "3cff027f"
      },
      "outputs": [],
      "source": [
        "# save labelled data to excel file\n",
        "data.to_csv('labelled_aspect.csv')"
      ]
    },
    {
      "cell_type": "markdown",
      "id": "otx1ksYc1hZ-",
      "metadata": {
        "id": "otx1ksYc1hZ-"
      },
      "source": [
        "### Sentiment Analysis"
      ]
    },
    {
      "cell_type": "markdown",
      "id": "iUcJTDgR1jTA",
      "metadata": {
        "id": "iUcJTDgR1jTA"
      },
      "source": [
        "**Import Data**"
      ]
    },
    {
      "cell_type": "code",
      "execution_count": null,
      "id": "ab07e177",
      "metadata": {
        "id": "ab07e177"
      },
      "outputs": [],
      "source": [
        " # import data\n",
        "data = pd.read_csv('labelled_aspect.csv')"
      ]
    },
    {
      "cell_type": "code",
      "execution_count": null,
      "id": "yTWxACyANGau",
      "metadata": {
        "colab": {
          "base_uri": "https://localhost:8080/",
          "height": 816
        },
        "id": "yTWxACyANGau",
        "outputId": "8d6843b1-250f-4273-a199-a80288d7d845"
      },
      "outputs": [
        {
          "data": {
            "text/html": [
              "\n",
              "  <div id=\"df-42502533-600e-4adf-a940-39bf67166aac\" class=\"colab-df-container\">\n",
              "    <div>\n",
              "<style scoped>\n",
              "    .dataframe tbody tr th:only-of-type {\n",
              "        vertical-align: middle;\n",
              "    }\n",
              "\n",
              "    .dataframe tbody tr th {\n",
              "        vertical-align: top;\n",
              "    }\n",
              "\n",
              "    .dataframe thead th {\n",
              "        text-align: right;\n",
              "    }\n",
              "</style>\n",
              "<table border=\"1\" class=\"dataframe\">\n",
              "  <thead>\n",
              "    <tr style=\"text-align: right;\">\n",
              "      <th></th>\n",
              "      <th>Unnamed: 0.1</th>\n",
              "      <th>Unnamed: 0</th>\n",
              "      <th>product</th>\n",
              "      <th>review</th>\n",
              "      <th>Clean</th>\n",
              "      <th>Topic 0</th>\n",
              "      <th>Topic 1</th>\n",
              "      <th>Topic 2</th>\n",
              "      <th>Topic 3</th>\n",
              "      <th>Topic 4</th>\n",
              "      <th>Topic 5</th>\n",
              "      <th>Topic 6</th>\n",
              "      <th>Topic 7</th>\n",
              "      <th>Topic 8</th>\n",
              "      <th>Topic 9</th>\n",
              "    </tr>\n",
              "  </thead>\n",
              "  <tbody>\n",
              "    <tr>\n",
              "      <th>0</th>\n",
              "      <td>0</td>\n",
              "      <td>0</td>\n",
              "      <td>Samsung Galaxy Buds 2 Pro True Wireless Earbud...</td>\n",
              "      <td>love these good audio, great battery life, noi...</td>\n",
              "      <td>['love', 'good', 'audio', 'great', 'battery', ...</td>\n",
              "      <td>1</td>\n",
              "      <td>0</td>\n",
              "      <td>1</td>\n",
              "      <td>0</td>\n",
              "      <td>0</td>\n",
              "      <td>1</td>\n",
              "      <td>0</td>\n",
              "      <td>0</td>\n",
              "      <td>0</td>\n",
              "      <td>0</td>\n",
              "    </tr>\n",
              "    <tr>\n",
              "      <th>1</th>\n",
              "      <td>1</td>\n",
              "      <td>1</td>\n",
              "      <td>Samsung Galaxy Buds 2 Pro True Wireless Earbud...</td>\n",
              "      <td>i used to the original galaxy pro buds and the...</td>\n",
              "      <td>['use', 'original', 'galaxy', 'pro', 'bud', 'n...</td>\n",
              "      <td>1</td>\n",
              "      <td>0</td>\n",
              "      <td>0</td>\n",
              "      <td>0</td>\n",
              "      <td>0</td>\n",
              "      <td>0</td>\n",
              "      <td>0</td>\n",
              "      <td>1</td>\n",
              "      <td>1</td>\n",
              "      <td>1</td>\n",
              "    </tr>\n",
              "    <tr>\n",
              "      <th>2</th>\n",
              "      <td>2</td>\n",
              "      <td>2</td>\n",
              "      <td>Samsung Galaxy Buds 2 Pro True Wireless Earbud...</td>\n",
              "      <td>love these ear buds.</td>\n",
              "      <td>['love', 'ear', 'bud']</td>\n",
              "      <td>0</td>\n",
              "      <td>0</td>\n",
              "      <td>0</td>\n",
              "      <td>0</td>\n",
              "      <td>0</td>\n",
              "      <td>0</td>\n",
              "      <td>0</td>\n",
              "      <td>1</td>\n",
              "      <td>0</td>\n",
              "      <td>0</td>\n",
              "    </tr>\n",
              "    <tr>\n",
              "      <th>3</th>\n",
              "      <td>3</td>\n",
              "      <td>3</td>\n",
              "      <td>Samsung Galaxy Buds 2 Pro True Wireless Earbud...</td>\n",
              "      <td>i went from android to an iphone, and they sti...</td>\n",
              "      <td>['go', 'android', 'iphone', 'still', 'work']</td>\n",
              "      <td>0</td>\n",
              "      <td>0</td>\n",
              "      <td>0</td>\n",
              "      <td>0</td>\n",
              "      <td>0</td>\n",
              "      <td>0</td>\n",
              "      <td>0</td>\n",
              "      <td>0</td>\n",
              "      <td>1</td>\n",
              "      <td>0</td>\n",
              "    </tr>\n",
              "    <tr>\n",
              "      <th>4</th>\n",
              "      <td>4</td>\n",
              "      <td>4</td>\n",
              "      <td>Samsung Galaxy Buds 2 Pro True Wireless Earbud...</td>\n",
              "      <td>sound quality is very good, base levels are am...</td>\n",
              "      <td>['sound', 'quality', 'good', 'base', 'level', ...</td>\n",
              "      <td>1</td>\n",
              "      <td>0</td>\n",
              "      <td>1</td>\n",
              "      <td>0</td>\n",
              "      <td>0</td>\n",
              "      <td>1</td>\n",
              "      <td>0</td>\n",
              "      <td>0</td>\n",
              "      <td>1</td>\n",
              "      <td>0</td>\n",
              "    </tr>\n",
              "  </tbody>\n",
              "</table>\n",
              "</div>\n",
              "    <div class=\"colab-df-buttons\">\n",
              "\n",
              "  <div class=\"colab-df-container\">\n",
              "    <button class=\"colab-df-convert\" onclick=\"convertToInteractive('df-42502533-600e-4adf-a940-39bf67166aac')\"\n",
              "            title=\"Convert this dataframe to an interactive table.\"\n",
              "            style=\"display:none;\">\n",
              "\n",
              "  <svg xmlns=\"http://www.w3.org/2000/svg\" height=\"24px\" viewBox=\"0 -960 960 960\">\n",
              "    <path d=\"M120-120v-720h720v720H120Zm60-500h600v-160H180v160Zm220 220h160v-160H400v160Zm0 220h160v-160H400v160ZM180-400h160v-160H180v160Zm440 0h160v-160H620v160ZM180-180h160v-160H180v160Zm440 0h160v-160H620v160Z\"/>\n",
              "  </svg>\n",
              "    </button>\n",
              "\n",
              "  <style>\n",
              "    .colab-df-container {\n",
              "      display:flex;\n",
              "      gap: 12px;\n",
              "    }\n",
              "\n",
              "    .colab-df-convert {\n",
              "      background-color: #E8F0FE;\n",
              "      border: none;\n",
              "      border-radius: 50%;\n",
              "      cursor: pointer;\n",
              "      display: none;\n",
              "      fill: #1967D2;\n",
              "      height: 32px;\n",
              "      padding: 0 0 0 0;\n",
              "      width: 32px;\n",
              "    }\n",
              "\n",
              "    .colab-df-convert:hover {\n",
              "      background-color: #E2EBFA;\n",
              "      box-shadow: 0px 1px 2px rgba(60, 64, 67, 0.3), 0px 1px 3px 1px rgba(60, 64, 67, 0.15);\n",
              "      fill: #174EA6;\n",
              "    }\n",
              "\n",
              "    .colab-df-buttons div {\n",
              "      margin-bottom: 4px;\n",
              "    }\n",
              "\n",
              "    [theme=dark] .colab-df-convert {\n",
              "      background-color: #3B4455;\n",
              "      fill: #D2E3FC;\n",
              "    }\n",
              "\n",
              "    [theme=dark] .colab-df-convert:hover {\n",
              "      background-color: #434B5C;\n",
              "      box-shadow: 0px 1px 3px 1px rgba(0, 0, 0, 0.15);\n",
              "      filter: drop-shadow(0px 1px 2px rgba(0, 0, 0, 0.3));\n",
              "      fill: #FFFFFF;\n",
              "    }\n",
              "  </style>\n",
              "\n",
              "    <script>\n",
              "      const buttonEl =\n",
              "        document.querySelector('#df-42502533-600e-4adf-a940-39bf67166aac button.colab-df-convert');\n",
              "      buttonEl.style.display =\n",
              "        google.colab.kernel.accessAllowed ? 'block' : 'none';\n",
              "\n",
              "      async function convertToInteractive(key) {\n",
              "        const element = document.querySelector('#df-42502533-600e-4adf-a940-39bf67166aac');\n",
              "        const dataTable =\n",
              "          await google.colab.kernel.invokeFunction('convertToInteractive',\n",
              "                                                    [key], {});\n",
              "        if (!dataTable) return;\n",
              "\n",
              "        const docLinkHtml = 'Like what you see? Visit the ' +\n",
              "          '<a target=\"_blank\" href=https://colab.research.google.com/notebooks/data_table.ipynb>data table notebook</a>'\n",
              "          + ' to learn more about interactive tables.';\n",
              "        element.innerHTML = '';\n",
              "        dataTable['output_type'] = 'display_data';\n",
              "        await google.colab.output.renderOutput(dataTable, element);\n",
              "        const docLink = document.createElement('div');\n",
              "        docLink.innerHTML = docLinkHtml;\n",
              "        element.appendChild(docLink);\n",
              "      }\n",
              "    </script>\n",
              "  </div>\n",
              "\n",
              "\n",
              "<div id=\"df-ea3b2ed3-7144-4b3f-9431-071249251e19\">\n",
              "  <button class=\"colab-df-quickchart\" onclick=\"quickchart('df-ea3b2ed3-7144-4b3f-9431-071249251e19')\"\n",
              "            title=\"Suggest charts\"\n",
              "            style=\"display:none;\">\n",
              "\n",
              "<svg xmlns=\"http://www.w3.org/2000/svg\" height=\"24px\"viewBox=\"0 0 24 24\"\n",
              "     width=\"24px\">\n",
              "    <g>\n",
              "        <path d=\"M19 3H5c-1.1 0-2 .9-2 2v14c0 1.1.9 2 2 2h14c1.1 0 2-.9 2-2V5c0-1.1-.9-2-2-2zM9 17H7v-7h2v7zm4 0h-2V7h2v10zm4 0h-2v-4h2v4z\"/>\n",
              "    </g>\n",
              "</svg>\n",
              "  </button>\n",
              "\n",
              "<style>\n",
              "  .colab-df-quickchart {\n",
              "      --bg-color: #E8F0FE;\n",
              "      --fill-color: #1967D2;\n",
              "      --hover-bg-color: #E2EBFA;\n",
              "      --hover-fill-color: #174EA6;\n",
              "      --disabled-fill-color: #AAA;\n",
              "      --disabled-bg-color: #DDD;\n",
              "  }\n",
              "\n",
              "  [theme=dark] .colab-df-quickchart {\n",
              "      --bg-color: #3B4455;\n",
              "      --fill-color: #D2E3FC;\n",
              "      --hover-bg-color: #434B5C;\n",
              "      --hover-fill-color: #FFFFFF;\n",
              "      --disabled-bg-color: #3B4455;\n",
              "      --disabled-fill-color: #666;\n",
              "  }\n",
              "\n",
              "  .colab-df-quickchart {\n",
              "    background-color: var(--bg-color);\n",
              "    border: none;\n",
              "    border-radius: 50%;\n",
              "    cursor: pointer;\n",
              "    display: none;\n",
              "    fill: var(--fill-color);\n",
              "    height: 32px;\n",
              "    padding: 0;\n",
              "    width: 32px;\n",
              "  }\n",
              "\n",
              "  .colab-df-quickchart:hover {\n",
              "    background-color: var(--hover-bg-color);\n",
              "    box-shadow: 0 1px 2px rgba(60, 64, 67, 0.3), 0 1px 3px 1px rgba(60, 64, 67, 0.15);\n",
              "    fill: var(--button-hover-fill-color);\n",
              "  }\n",
              "\n",
              "  .colab-df-quickchart-complete:disabled,\n",
              "  .colab-df-quickchart-complete:disabled:hover {\n",
              "    background-color: var(--disabled-bg-color);\n",
              "    fill: var(--disabled-fill-color);\n",
              "    box-shadow: none;\n",
              "  }\n",
              "\n",
              "  .colab-df-spinner {\n",
              "    border: 2px solid var(--fill-color);\n",
              "    border-color: transparent;\n",
              "    border-bottom-color: var(--fill-color);\n",
              "    animation:\n",
              "      spin 1s steps(1) infinite;\n",
              "  }\n",
              "\n",
              "  @keyframes spin {\n",
              "    0% {\n",
              "      border-color: transparent;\n",
              "      border-bottom-color: var(--fill-color);\n",
              "      border-left-color: var(--fill-color);\n",
              "    }\n",
              "    20% {\n",
              "      border-color: transparent;\n",
              "      border-left-color: var(--fill-color);\n",
              "      border-top-color: var(--fill-color);\n",
              "    }\n",
              "    30% {\n",
              "      border-color: transparent;\n",
              "      border-left-color: var(--fill-color);\n",
              "      border-top-color: var(--fill-color);\n",
              "      border-right-color: var(--fill-color);\n",
              "    }\n",
              "    40% {\n",
              "      border-color: transparent;\n",
              "      border-right-color: var(--fill-color);\n",
              "      border-top-color: var(--fill-color);\n",
              "    }\n",
              "    60% {\n",
              "      border-color: transparent;\n",
              "      border-right-color: var(--fill-color);\n",
              "    }\n",
              "    80% {\n",
              "      border-color: transparent;\n",
              "      border-right-color: var(--fill-color);\n",
              "      border-bottom-color: var(--fill-color);\n",
              "    }\n",
              "    90% {\n",
              "      border-color: transparent;\n",
              "      border-bottom-color: var(--fill-color);\n",
              "    }\n",
              "  }\n",
              "</style>\n",
              "\n",
              "  <script>\n",
              "    async function quickchart(key) {\n",
              "      const quickchartButtonEl =\n",
              "        document.querySelector('#' + key + ' button');\n",
              "      quickchartButtonEl.disabled = true;  // To prevent multiple clicks.\n",
              "      quickchartButtonEl.classList.add('colab-df-spinner');\n",
              "      try {\n",
              "        const charts = await google.colab.kernel.invokeFunction(\n",
              "            'suggestCharts', [key], {});\n",
              "      } catch (error) {\n",
              "        console.error('Error during call to suggestCharts:', error);\n",
              "      }\n",
              "      quickchartButtonEl.classList.remove('colab-df-spinner');\n",
              "      quickchartButtonEl.classList.add('colab-df-quickchart-complete');\n",
              "    }\n",
              "    (() => {\n",
              "      let quickchartButtonEl =\n",
              "        document.querySelector('#df-ea3b2ed3-7144-4b3f-9431-071249251e19 button');\n",
              "      quickchartButtonEl.style.display =\n",
              "        google.colab.kernel.accessAllowed ? 'block' : 'none';\n",
              "    })();\n",
              "  </script>\n",
              "</div>\n",
              "    </div>\n",
              "  </div>\n"
            ],
            "text/plain": [
              "   Unnamed: 0.1  Unnamed: 0  \\\n",
              "0             0           0   \n",
              "1             1           1   \n",
              "2             2           2   \n",
              "3             3           3   \n",
              "4             4           4   \n",
              "\n",
              "                                             product  \\\n",
              "0  Samsung Galaxy Buds 2 Pro True Wireless Earbud...   \n",
              "1  Samsung Galaxy Buds 2 Pro True Wireless Earbud...   \n",
              "2  Samsung Galaxy Buds 2 Pro True Wireless Earbud...   \n",
              "3  Samsung Galaxy Buds 2 Pro True Wireless Earbud...   \n",
              "4  Samsung Galaxy Buds 2 Pro True Wireless Earbud...   \n",
              "\n",
              "                                              review  \\\n",
              "0  love these good audio, great battery life, noi...   \n",
              "1  i used to the original galaxy pro buds and the...   \n",
              "2                               love these ear buds.   \n",
              "3  i went from android to an iphone, and they sti...   \n",
              "4  sound quality is very good, base levels are am...   \n",
              "\n",
              "                                               Clean  Topic 0  Topic 1  \\\n",
              "0  ['love', 'good', 'audio', 'great', 'battery', ...        1        0   \n",
              "1  ['use', 'original', 'galaxy', 'pro', 'bud', 'n...        1        0   \n",
              "2                             ['love', 'ear', 'bud']        0        0   \n",
              "3       ['go', 'android', 'iphone', 'still', 'work']        0        0   \n",
              "4  ['sound', 'quality', 'good', 'base', 'level', ...        1        0   \n",
              "\n",
              "   Topic 2  Topic 3  Topic 4  Topic 5  Topic 6  Topic 7  Topic 8  Topic 9  \n",
              "0        1        0        0        1        0        0        0        0  \n",
              "1        0        0        0        0        0        1        1        1  \n",
              "2        0        0        0        0        0        1        0        0  \n",
              "3        0        0        0        0        0        0        1        0  \n",
              "4        1        0        0        1        0        0        1        0  "
            ]
          },
          "execution_count": 22,
          "metadata": {},
          "output_type": "execute_result"
        }
      ],
      "source": [
        "data.head()"
      ]
    },
    {
      "cell_type": "markdown",
      "id": "DxJ-31Fj1lRV",
      "metadata": {
        "id": "DxJ-31Fj1lRV"
      },
      "source": [
        "**Load Trained Skip Gram BiLSTM Model**"
      ]
    },
    {
      "cell_type": "code",
      "execution_count": null,
      "id": "7puRRrCMg9nQ",
      "metadata": {
        "colab": {
          "base_uri": "https://localhost:8080/"
        },
        "id": "7puRRrCMg9nQ",
        "outputId": "9e70d23e-0457-488a-9b09-fd48e0ee7452"
      },
      "outputs": [
        {
          "name": "stdout",
          "output_type": "stream",
          "text": [
            "Archive:  Sentiment_sg_bilstm_w2v.sav.zip\n",
            "   creating: Sentiment_sg_bilstm_w2v.sav/assets/\n",
            " extracting: Sentiment_sg_bilstm_w2v.sav/fingerprint.pb  \n",
            "  inflating: Sentiment_sg_bilstm_w2v.sav/keras_metadata.pb  \n",
            "  inflating: Sentiment_sg_bilstm_w2v.sav/saved_model.pb  \n",
            "   creating: Sentiment_sg_bilstm_w2v.sav/variables/\n",
            "  inflating: Sentiment_sg_bilstm_w2v.sav/variables/variables.data-00000-of-00001  \n",
            "  inflating: Sentiment_sg_bilstm_w2v.sav/variables/variables.index  \n"
          ]
        }
      ],
      "source": [
        "!unzip Sentiment_sg_bilstm_w2v.sav.zip"
      ]
    },
    {
      "cell_type": "code",
      "execution_count": null,
      "id": "17eea6cf",
      "metadata": {
        "colab": {
          "base_uri": "https://localhost:8080/"
        },
        "id": "17eea6cf",
        "outputId": "36640778-a074-4d48-d481-8282513de31f"
      },
      "outputs": [
        {
          "name": "stderr",
          "output_type": "stream",
          "text": [
            "WARNING:tensorflow:Layer lstm will not use cuDNN kernels since it doesn't meet the criteria. It will use a generic GPU kernel as fallback when running on GPU.\n",
            "WARNING:tensorflow:Layer lstm will not use cuDNN kernels since it doesn't meet the criteria. It will use a generic GPU kernel as fallback when running on GPU.\n",
            "WARNING:tensorflow:Layer lstm will not use cuDNN kernels since it doesn't meet the criteria. It will use a generic GPU kernel as fallback when running on GPU.\n"
          ]
        }
      ],
      "source": [
        "# import trained skip gram bilstm model for sentiment analysis\n",
        "sentiment_model = tf.keras.models.load_model(\"Sentiment_sg_bilstm_w2v.sav\")"
      ]
    },
    {
      "cell_type": "markdown",
      "id": "pdBgm3tM1p2_",
      "metadata": {
        "id": "pdBgm3tM1p2_"
      },
      "source": [
        "**Data Preprocessing**"
      ]
    },
    {
      "cell_type": "code",
      "execution_count": null,
      "id": "3CIcOaXnoCCb",
      "metadata": {
        "colab": {
          "base_uri": "https://localhost:8080/"
        },
        "id": "3CIcOaXnoCCb",
        "outputId": "6cfdac0c-54a9-44b4-c4ce-272395d21271"
      },
      "outputs": [
        {
          "name": "stderr",
          "output_type": "stream",
          "text": [
            "[nltk_data] Downloading package stopwords to /root/nltk_data...\n",
            "[nltk_data]   Unzipping corpora/stopwords.zip.\n"
          ]
        },
        {
          "data": {
            "text/plain": [
              "True"
            ]
          },
          "execution_count": 25,
          "metadata": {},
          "output_type": "execute_result"
        }
      ],
      "source": [
        "nltk.download('stopwords')"
      ]
    },
    {
      "cell_type": "code",
      "execution_count": null,
      "id": "uf5LYXSaq8br",
      "metadata": {
        "id": "uf5LYXSaq8br"
      },
      "outputs": [],
      "source": [
        "# function for preprocessing review data\n",
        "stop_words = stopwords.words(\"english\")\n",
        "stemmer = SnowballStemmer(\"english\")\n",
        "\n",
        "# TEXT CLENAING\n",
        "TEXT_CLEANING_RE = \"@\\S+|https?:\\S+|http?:\\S|[^A-Za-z0-9]+\"\n",
        "\n",
        "def preprocess(text, stem=False):\n",
        "    # Remove link,user and special characters\n",
        "    text = re.sub(TEXT_CLEANING_RE, ' ', str(text).lower()).strip()\n",
        "    tokens = []\n",
        "    for token in text.split():\n",
        "        if token not in stop_words:\n",
        "            if stem:\n",
        "                tokens.append(stemmer.stem(token))\n",
        "            else:\n",
        "                tokens.append(token)\n",
        "    return \" \".join(tokens)"
      ]
    },
    {
      "cell_type": "code",
      "execution_count": null,
      "id": "QPvCxFlLn12k",
      "metadata": {
        "colab": {
          "base_uri": "https://localhost:8080/"
        },
        "id": "QPvCxFlLn12k",
        "outputId": "3dbc9210-c611-400d-8900-607d3b37c271"
      },
      "outputs": [
        {
          "name": "stdout",
          "output_type": "stream",
          "text": [
            "CPU times: user 4.58 s, sys: 22.9 ms, total: 4.6 s\n",
            "Wall time: 4.65 s\n"
          ]
        }
      ],
      "source": [
        "%%time\n",
        "# preprocess review data\n",
        "data.review = data.review.apply(lambda x: preprocess(x))"
      ]
    },
    {
      "cell_type": "code",
      "execution_count": null,
      "id": "8SlFggZwogaJ",
      "metadata": {
        "colab": {
          "base_uri": "https://localhost:8080/",
          "height": 1000
        },
        "id": "8SlFggZwogaJ",
        "outputId": "59832b2f-3a49-4132-b541-19a0322eee10"
      },
      "outputs": [
        {
          "data": {
            "text/html": [
              "\n",
              "  <div id=\"df-09030729-0625-4a74-8d85-b5f498b7161e\" class=\"colab-df-container\">\n",
              "    <div>\n",
              "<style scoped>\n",
              "    .dataframe tbody tr th:only-of-type {\n",
              "        vertical-align: middle;\n",
              "    }\n",
              "\n",
              "    .dataframe tbody tr th {\n",
              "        vertical-align: top;\n",
              "    }\n",
              "\n",
              "    .dataframe thead th {\n",
              "        text-align: right;\n",
              "    }\n",
              "</style>\n",
              "<table border=\"1\" class=\"dataframe\">\n",
              "  <thead>\n",
              "    <tr style=\"text-align: right;\">\n",
              "      <th></th>\n",
              "      <th>product</th>\n",
              "      <th>review</th>\n",
              "      <th>Clean</th>\n",
              "      <th>Topic 0</th>\n",
              "      <th>Topic 1</th>\n",
              "      <th>Topic 2</th>\n",
              "      <th>Topic 3</th>\n",
              "      <th>Topic 4</th>\n",
              "      <th>Topic 5</th>\n",
              "      <th>Topic 6</th>\n",
              "      <th>Topic 7</th>\n",
              "      <th>Topic 8</th>\n",
              "      <th>Topic 9</th>\n",
              "    </tr>\n",
              "  </thead>\n",
              "  <tbody>\n",
              "    <tr>\n",
              "      <th>21233</th>\n",
              "      <td>Beats by Dr Dre  Beats Fit Pro True Wireless N...</td>\n",
              "      <td>thing seem get occasion static think related b...</td>\n",
              "      <td>['thing', 'seem', 'get', 'occasion', 'static',...</td>\n",
              "      <td>0</td>\n",
              "      <td>0</td>\n",
              "      <td>0</td>\n",
              "      <td>0</td>\n",
              "      <td>0</td>\n",
              "      <td>0</td>\n",
              "      <td>0</td>\n",
              "      <td>0</td>\n",
              "      <td>0</td>\n",
              "      <td>0</td>\n",
              "    </tr>\n",
              "    <tr>\n",
              "      <th>26003</th>\n",
              "      <td>Samsung  Galaxy Buds Live True Wireless Earbud...</td>\n",
              "      <td>pugs ears going inside ear way comfortable</td>\n",
              "      <td>['pug', 'ear', 'go', 'inside', 'ear', 'way', '...</td>\n",
              "      <td>0</td>\n",
              "      <td>0</td>\n",
              "      <td>0</td>\n",
              "      <td>0</td>\n",
              "      <td>0</td>\n",
              "      <td>0</td>\n",
              "      <td>0</td>\n",
              "      <td>1</td>\n",
              "      <td>0</td>\n",
              "      <td>0</td>\n",
              "    </tr>\n",
              "    <tr>\n",
              "      <th>88055</th>\n",
              "      <td>Sony  WIC310 Wireless InEar Headphones  Black</td>\n",
              "      <td>easy use stays charged long time sound quality...</td>\n",
              "      <td>['easy', 'use', 'stay', 'charge', 'long', 'tim...</td>\n",
              "      <td>1</td>\n",
              "      <td>0</td>\n",
              "      <td>1</td>\n",
              "      <td>0</td>\n",
              "      <td>0</td>\n",
              "      <td>0</td>\n",
              "      <td>1</td>\n",
              "      <td>1</td>\n",
              "      <td>1</td>\n",
              "      <td>0</td>\n",
              "    </tr>\n",
              "    <tr>\n",
              "      <th>135976</th>\n",
              "      <td>Apple  AirPods with Charging Case 2nd generati...</td>\n",
              "      <td>third purchase relative</td>\n",
              "      <td>['third', 'purchase', 'relative']</td>\n",
              "      <td>0</td>\n",
              "      <td>0</td>\n",
              "      <td>0</td>\n",
              "      <td>0</td>\n",
              "      <td>0</td>\n",
              "      <td>0</td>\n",
              "      <td>0</td>\n",
              "      <td>0</td>\n",
              "      <td>0</td>\n",
              "      <td>0</td>\n",
              "    </tr>\n",
              "    <tr>\n",
              "      <th>63433</th>\n",
              "      <td>JLab  Epic Air Sport ANC True Wireless Earbuds...</td>\n",
              "      <td>price icing cake</td>\n",
              "      <td>['price', 'icing', 'cake']</td>\n",
              "      <td>1</td>\n",
              "      <td>0</td>\n",
              "      <td>0</td>\n",
              "      <td>0</td>\n",
              "      <td>0</td>\n",
              "      <td>0</td>\n",
              "      <td>0</td>\n",
              "      <td>0</td>\n",
              "      <td>0</td>\n",
              "      <td>0</td>\n",
              "    </tr>\n",
              "    <tr>\n",
              "      <th>132607</th>\n",
              "      <td>Apple  AirPods 3rd generation with Lightning C...</td>\n",
              "      <td>excellent quality satisfied merchandise</td>\n",
              "      <td>['excellent', 'quality', 'satisfied', 'merchan...</td>\n",
              "      <td>1</td>\n",
              "      <td>0</td>\n",
              "      <td>0</td>\n",
              "      <td>0</td>\n",
              "      <td>0</td>\n",
              "      <td>0</td>\n",
              "      <td>0</td>\n",
              "      <td>0</td>\n",
              "      <td>0</td>\n",
              "      <td>0</td>\n",
              "    </tr>\n",
              "    <tr>\n",
              "      <th>64401</th>\n",
              "      <td>JLab  Epic Air Sport ANC True Wireless Earbuds...</td>\n",
              "      <td>sound quality sound quality gate really good a...</td>\n",
              "      <td>['sound', 'quality', 'sound', 'quality', 'gate...</td>\n",
              "      <td>1</td>\n",
              "      <td>1</td>\n",
              "      <td>0</td>\n",
              "      <td>0</td>\n",
              "      <td>0</td>\n",
              "      <td>0</td>\n",
              "      <td>0</td>\n",
              "      <td>0</td>\n",
              "      <td>0</td>\n",
              "      <td>0</td>\n",
              "    </tr>\n",
              "    <tr>\n",
              "      <th>41164</th>\n",
              "      <td>Bose  QuietComfort Earbuds II True Wireless No...</td>\n",
              "      <td>best set earbuds beats fits pro apple air pods...</td>\n",
              "      <td>['well', 'set', 'earbud', 'beat', 'fit', 'pro'...</td>\n",
              "      <td>0</td>\n",
              "      <td>0</td>\n",
              "      <td>0</td>\n",
              "      <td>0</td>\n",
              "      <td>1</td>\n",
              "      <td>0</td>\n",
              "      <td>0</td>\n",
              "      <td>1</td>\n",
              "      <td>1</td>\n",
              "      <td>1</td>\n",
              "    </tr>\n",
              "    <tr>\n",
              "      <th>103249</th>\n",
              "      <td>JLab  JBuds Air Sport True Wireless InEar Head...</td>\n",
              "      <td>always like quality sound research type use de...</td>\n",
              "      <td>['always', 'quality', 'sound', 'research', 'ty...</td>\n",
              "      <td>1</td>\n",
              "      <td>0</td>\n",
              "      <td>0</td>\n",
              "      <td>0</td>\n",
              "      <td>0</td>\n",
              "      <td>0</td>\n",
              "      <td>0</td>\n",
              "      <td>0</td>\n",
              "      <td>1</td>\n",
              "      <td>0</td>\n",
              "    </tr>\n",
              "    <tr>\n",
              "      <th>62615</th>\n",
              "      <td>JLab  Epic Air Sport ANC True Wireless Earbuds...</td>\n",
              "      <td>first set wireless earbuds really nothing compare</td>\n",
              "      <td>['first', 'set', 'wireless', 'earbud', 'really...</td>\n",
              "      <td>0</td>\n",
              "      <td>0</td>\n",
              "      <td>0</td>\n",
              "      <td>0</td>\n",
              "      <td>0</td>\n",
              "      <td>0</td>\n",
              "      <td>0</td>\n",
              "      <td>0</td>\n",
              "      <td>0</td>\n",
              "      <td>1</td>\n",
              "    </tr>\n",
              "  </tbody>\n",
              "</table>\n",
              "</div>\n",
              "    <div class=\"colab-df-buttons\">\n",
              "\n",
              "  <div class=\"colab-df-container\">\n",
              "    <button class=\"colab-df-convert\" onclick=\"convertToInteractive('df-09030729-0625-4a74-8d85-b5f498b7161e')\"\n",
              "            title=\"Convert this dataframe to an interactive table.\"\n",
              "            style=\"display:none;\">\n",
              "\n",
              "  <svg xmlns=\"http://www.w3.org/2000/svg\" height=\"24px\" viewBox=\"0 -960 960 960\">\n",
              "    <path d=\"M120-120v-720h720v720H120Zm60-500h600v-160H180v160Zm220 220h160v-160H400v160Zm0 220h160v-160H400v160ZM180-400h160v-160H180v160Zm440 0h160v-160H620v160ZM180-180h160v-160H180v160Zm440 0h160v-160H620v160Z\"/>\n",
              "  </svg>\n",
              "    </button>\n",
              "\n",
              "  <style>\n",
              "    .colab-df-container {\n",
              "      display:flex;\n",
              "      gap: 12px;\n",
              "    }\n",
              "\n",
              "    .colab-df-convert {\n",
              "      background-color: #E8F0FE;\n",
              "      border: none;\n",
              "      border-radius: 50%;\n",
              "      cursor: pointer;\n",
              "      display: none;\n",
              "      fill: #1967D2;\n",
              "      height: 32px;\n",
              "      padding: 0 0 0 0;\n",
              "      width: 32px;\n",
              "    }\n",
              "\n",
              "    .colab-df-convert:hover {\n",
              "      background-color: #E2EBFA;\n",
              "      box-shadow: 0px 1px 2px rgba(60, 64, 67, 0.3), 0px 1px 3px 1px rgba(60, 64, 67, 0.15);\n",
              "      fill: #174EA6;\n",
              "    }\n",
              "\n",
              "    .colab-df-buttons div {\n",
              "      margin-bottom: 4px;\n",
              "    }\n",
              "\n",
              "    [theme=dark] .colab-df-convert {\n",
              "      background-color: #3B4455;\n",
              "      fill: #D2E3FC;\n",
              "    }\n",
              "\n",
              "    [theme=dark] .colab-df-convert:hover {\n",
              "      background-color: #434B5C;\n",
              "      box-shadow: 0px 1px 3px 1px rgba(0, 0, 0, 0.15);\n",
              "      filter: drop-shadow(0px 1px 2px rgba(0, 0, 0, 0.3));\n",
              "      fill: #FFFFFF;\n",
              "    }\n",
              "  </style>\n",
              "\n",
              "    <script>\n",
              "      const buttonEl =\n",
              "        document.querySelector('#df-09030729-0625-4a74-8d85-b5f498b7161e button.colab-df-convert');\n",
              "      buttonEl.style.display =\n",
              "        google.colab.kernel.accessAllowed ? 'block' : 'none';\n",
              "\n",
              "      async function convertToInteractive(key) {\n",
              "        const element = document.querySelector('#df-09030729-0625-4a74-8d85-b5f498b7161e');\n",
              "        const dataTable =\n",
              "          await google.colab.kernel.invokeFunction('convertToInteractive',\n",
              "                                                    [key], {});\n",
              "        if (!dataTable) return;\n",
              "\n",
              "        const docLinkHtml = 'Like what you see? Visit the ' +\n",
              "          '<a target=\"_blank\" href=https://colab.research.google.com/notebooks/data_table.ipynb>data table notebook</a>'\n",
              "          + ' to learn more about interactive tables.';\n",
              "        element.innerHTML = '';\n",
              "        dataTable['output_type'] = 'display_data';\n",
              "        await google.colab.output.renderOutput(dataTable, element);\n",
              "        const docLink = document.createElement('div');\n",
              "        docLink.innerHTML = docLinkHtml;\n",
              "        element.appendChild(docLink);\n",
              "      }\n",
              "    </script>\n",
              "  </div>\n",
              "\n",
              "\n",
              "<div id=\"df-6ee5e91c-029f-4a4a-9864-16f793cc1995\">\n",
              "  <button class=\"colab-df-quickchart\" onclick=\"quickchart('df-6ee5e91c-029f-4a4a-9864-16f793cc1995')\"\n",
              "            title=\"Suggest charts\"\n",
              "            style=\"display:none;\">\n",
              "\n",
              "<svg xmlns=\"http://www.w3.org/2000/svg\" height=\"24px\"viewBox=\"0 0 24 24\"\n",
              "     width=\"24px\">\n",
              "    <g>\n",
              "        <path d=\"M19 3H5c-1.1 0-2 .9-2 2v14c0 1.1.9 2 2 2h14c1.1 0 2-.9 2-2V5c0-1.1-.9-2-2-2zM9 17H7v-7h2v7zm4 0h-2V7h2v10zm4 0h-2v-4h2v4z\"/>\n",
              "    </g>\n",
              "</svg>\n",
              "  </button>\n",
              "\n",
              "<style>\n",
              "  .colab-df-quickchart {\n",
              "      --bg-color: #E8F0FE;\n",
              "      --fill-color: #1967D2;\n",
              "      --hover-bg-color: #E2EBFA;\n",
              "      --hover-fill-color: #174EA6;\n",
              "      --disabled-fill-color: #AAA;\n",
              "      --disabled-bg-color: #DDD;\n",
              "  }\n",
              "\n",
              "  [theme=dark] .colab-df-quickchart {\n",
              "      --bg-color: #3B4455;\n",
              "      --fill-color: #D2E3FC;\n",
              "      --hover-bg-color: #434B5C;\n",
              "      --hover-fill-color: #FFFFFF;\n",
              "      --disabled-bg-color: #3B4455;\n",
              "      --disabled-fill-color: #666;\n",
              "  }\n",
              "\n",
              "  .colab-df-quickchart {\n",
              "    background-color: var(--bg-color);\n",
              "    border: none;\n",
              "    border-radius: 50%;\n",
              "    cursor: pointer;\n",
              "    display: none;\n",
              "    fill: var(--fill-color);\n",
              "    height: 32px;\n",
              "    padding: 0;\n",
              "    width: 32px;\n",
              "  }\n",
              "\n",
              "  .colab-df-quickchart:hover {\n",
              "    background-color: var(--hover-bg-color);\n",
              "    box-shadow: 0 1px 2px rgba(60, 64, 67, 0.3), 0 1px 3px 1px rgba(60, 64, 67, 0.15);\n",
              "    fill: var(--button-hover-fill-color);\n",
              "  }\n",
              "\n",
              "  .colab-df-quickchart-complete:disabled,\n",
              "  .colab-df-quickchart-complete:disabled:hover {\n",
              "    background-color: var(--disabled-bg-color);\n",
              "    fill: var(--disabled-fill-color);\n",
              "    box-shadow: none;\n",
              "  }\n",
              "\n",
              "  .colab-df-spinner {\n",
              "    border: 2px solid var(--fill-color);\n",
              "    border-color: transparent;\n",
              "    border-bottom-color: var(--fill-color);\n",
              "    animation:\n",
              "      spin 1s steps(1) infinite;\n",
              "  }\n",
              "\n",
              "  @keyframes spin {\n",
              "    0% {\n",
              "      border-color: transparent;\n",
              "      border-bottom-color: var(--fill-color);\n",
              "      border-left-color: var(--fill-color);\n",
              "    }\n",
              "    20% {\n",
              "      border-color: transparent;\n",
              "      border-left-color: var(--fill-color);\n",
              "      border-top-color: var(--fill-color);\n",
              "    }\n",
              "    30% {\n",
              "      border-color: transparent;\n",
              "      border-left-color: var(--fill-color);\n",
              "      border-top-color: var(--fill-color);\n",
              "      border-right-color: var(--fill-color);\n",
              "    }\n",
              "    40% {\n",
              "      border-color: transparent;\n",
              "      border-right-color: var(--fill-color);\n",
              "      border-top-color: var(--fill-color);\n",
              "    }\n",
              "    60% {\n",
              "      border-color: transparent;\n",
              "      border-right-color: var(--fill-color);\n",
              "    }\n",
              "    80% {\n",
              "      border-color: transparent;\n",
              "      border-right-color: var(--fill-color);\n",
              "      border-bottom-color: var(--fill-color);\n",
              "    }\n",
              "    90% {\n",
              "      border-color: transparent;\n",
              "      border-bottom-color: var(--fill-color);\n",
              "    }\n",
              "  }\n",
              "</style>\n",
              "\n",
              "  <script>\n",
              "    async function quickchart(key) {\n",
              "      const quickchartButtonEl =\n",
              "        document.querySelector('#' + key + ' button');\n",
              "      quickchartButtonEl.disabled = true;  // To prevent multiple clicks.\n",
              "      quickchartButtonEl.classList.add('colab-df-spinner');\n",
              "      try {\n",
              "        const charts = await google.colab.kernel.invokeFunction(\n",
              "            'suggestCharts', [key], {});\n",
              "      } catch (error) {\n",
              "        console.error('Error during call to suggestCharts:', error);\n",
              "      }\n",
              "      quickchartButtonEl.classList.remove('colab-df-spinner');\n",
              "      quickchartButtonEl.classList.add('colab-df-quickchart-complete');\n",
              "    }\n",
              "    (() => {\n",
              "      let quickchartButtonEl =\n",
              "        document.querySelector('#df-6ee5e91c-029f-4a4a-9864-16f793cc1995 button');\n",
              "      quickchartButtonEl.style.display =\n",
              "        google.colab.kernel.accessAllowed ? 'block' : 'none';\n",
              "    })();\n",
              "  </script>\n",
              "</div>\n",
              "    </div>\n",
              "  </div>\n"
            ],
            "text/plain": [
              "                                                  product  \\\n",
              "21233   Beats by Dr Dre  Beats Fit Pro True Wireless N...   \n",
              "26003   Samsung  Galaxy Buds Live True Wireless Earbud...   \n",
              "88055       Sony  WIC310 Wireless InEar Headphones  Black   \n",
              "135976  Apple  AirPods with Charging Case 2nd generati...   \n",
              "63433   JLab  Epic Air Sport ANC True Wireless Earbuds...   \n",
              "132607  Apple  AirPods 3rd generation with Lightning C...   \n",
              "64401   JLab  Epic Air Sport ANC True Wireless Earbuds...   \n",
              "41164   Bose  QuietComfort Earbuds II True Wireless No...   \n",
              "103249  JLab  JBuds Air Sport True Wireless InEar Head...   \n",
              "62615   JLab  Epic Air Sport ANC True Wireless Earbuds...   \n",
              "\n",
              "                                                   review  \\\n",
              "21233   thing seem get occasion static think related b...   \n",
              "26003          pugs ears going inside ear way comfortable   \n",
              "88055   easy use stays charged long time sound quality...   \n",
              "135976                            third purchase relative   \n",
              "63433                                    price icing cake   \n",
              "132607            excellent quality satisfied merchandise   \n",
              "64401   sound quality sound quality gate really good a...   \n",
              "41164   best set earbuds beats fits pro apple air pods...   \n",
              "103249  always like quality sound research type use de...   \n",
              "62615   first set wireless earbuds really nothing compare   \n",
              "\n",
              "                                                    Clean  Topic 0  Topic 1  \\\n",
              "21233   ['thing', 'seem', 'get', 'occasion', 'static',...        0        0   \n",
              "26003   ['pug', 'ear', 'go', 'inside', 'ear', 'way', '...        0        0   \n",
              "88055   ['easy', 'use', 'stay', 'charge', 'long', 'tim...        1        0   \n",
              "135976                  ['third', 'purchase', 'relative']        0        0   \n",
              "63433                          ['price', 'icing', 'cake']        1        0   \n",
              "132607  ['excellent', 'quality', 'satisfied', 'merchan...        1        0   \n",
              "64401   ['sound', 'quality', 'sound', 'quality', 'gate...        1        1   \n",
              "41164   ['well', 'set', 'earbud', 'beat', 'fit', 'pro'...        0        0   \n",
              "103249  ['always', 'quality', 'sound', 'research', 'ty...        1        0   \n",
              "62615   ['first', 'set', 'wireless', 'earbud', 'really...        0        0   \n",
              "\n",
              "        Topic 2  Topic 3  Topic 4  Topic 5  Topic 6  Topic 7  Topic 8  Topic 9  \n",
              "21233         0        0        0        0        0        0        0        0  \n",
              "26003         0        0        0        0        0        1        0        0  \n",
              "88055         1        0        0        0        1        1        1        0  \n",
              "135976        0        0        0        0        0        0        0        0  \n",
              "63433         0        0        0        0        0        0        0        0  \n",
              "132607        0        0        0        0        0        0        0        0  \n",
              "64401         0        0        0        0        0        0        0        0  \n",
              "41164         0        0        1        0        0        1        1        1  \n",
              "103249        0        0        0        0        0        0        1        0  \n",
              "62615         0        0        0        0        0        0        0        1  "
            ]
          },
          "execution_count": 28,
          "metadata": {},
          "output_type": "execute_result"
        }
      ],
      "source": [
        "# remove unnecessary column and display some samples\n",
        "data = data.loc[:, ~data.columns.str.contains('^Unnamed')]\n",
        "data.sample(10)"
      ]
    },
    {
      "cell_type": "markdown",
      "id": "IxPy9vM51tC-",
      "metadata": {
        "id": "IxPy9vM51tC-"
      },
      "source": [
        "**Load Trained Tokenizer for Skip Gram BiLSTM Model**"
      ]
    },
    {
      "cell_type": "code",
      "execution_count": null,
      "id": "xhiTRnUcon4a",
      "metadata": {
        "id": "xhiTRnUcon4a"
      },
      "outputs": [],
      "source": [
        "# import trained tokenizer (for skip gram bilstm model)\n",
        "with open('sg_bilstm_w2v_tokenizer.pkl', 'rb') as tokenizer_file:\n",
        "    tokenizer = pickle.load(tokenizer_file)"
      ]
    },
    {
      "cell_type": "markdown",
      "id": "ZEXIJwis1xkA",
      "metadata": {
        "id": "ZEXIJwis1xkA"
      },
      "source": [
        "**Sentiment Analysis Prediction**"
      ]
    },
    {
      "cell_type": "code",
      "execution_count": null,
      "id": "udUjZdg2qRrP",
      "metadata": {
        "id": "udUjZdg2qRrP"
      },
      "outputs": [],
      "source": [
        "# function for sentiment prediction using trained sentiment analysis model and trained tokenizer\n",
        "SEQUENCE_LENGTH = 300\n",
        "\n",
        "def decode_sentiment(score):\n",
        "    return 1 if score >= 0.5 else 0\n",
        "\n",
        "def predict(text):\n",
        "    # Tokenize text\n",
        "    x_test = pad_sequences(tokenizer.texts_to_sequences([text]), maxlen=SEQUENCE_LENGTH)\n",
        "    # Predict\n",
        "    score = sentiment_model.predict([x_test])[0]\n",
        "    # Decode sentiment as 0 or 1\n",
        "    label = decode_sentiment(score)\n",
        "\n",
        "    return label"
      ]
    },
    {
      "cell_type": "code",
      "execution_count": null,
      "id": "0R1If15cxhGQ",
      "metadata": {
        "id": "0R1If15cxhGQ"
      },
      "outputs": [],
      "source": [
        "SEQUENCE_LENGTH = 300\n",
        "\n",
        "def decode_sentiment(score):\n",
        "    return 1 if score >= 0.5 else 0\n",
        "\n",
        "def batch_predict(texts):\n",
        "    # Tokenize the texts\n",
        "    sequences = tokenizer.texts_to_sequences(texts)\n",
        "    x_test = pad_sequences(sequences, maxlen=SEQUENCE_LENGTH)\n",
        "\n",
        "    # Predict using the entire batch\n",
        "    scores = sentiment_model.predict(x_test)\n",
        "\n",
        "    # Decode sentiment for the entire batch as 0 or 1\n",
        "    labels = [decode_sentiment(score) for score in scores]\n",
        "\n",
        "    return labels"
      ]
    },
    {
      "cell_type": "code",
      "execution_count": null,
      "id": "bsWj0MDLrWzN",
      "metadata": {
        "colab": {
          "base_uri": "https://localhost:8080/"
        },
        "id": "bsWj0MDLrWzN",
        "outputId": "a138a4e5-1822-4e2d-bf87-ad436e665df2"
      },
      "outputs": [
        {
          "name": "stdout",
          "output_type": "stream",
          "text": [
            "4340/4340 [==============================] - 685s 157ms/step\n"
          ]
        }
      ],
      "source": [
        "# predict the sentiment of the review\n",
        "#data['predicted_sentiment'] = data['review'].apply(predict)\n",
        "data['predicted_sentiment'] = batch_predict(data['review'])"
      ]
    },
    {
      "cell_type": "markdown",
      "id": "5GHnx9Ek10dq",
      "metadata": {
        "id": "5GHnx9Ek10dq"
      },
      "source": [
        "**Save Results**"
      ]
    },
    {
      "cell_type": "code",
      "execution_count": null,
      "id": "HkMaDFD9rZNs",
      "metadata": {
        "id": "HkMaDFD9rZNs"
      },
      "outputs": [],
      "source": [
        "data.to_csv('aspect_sentiment.csv')"
      ]
    },
    {
      "cell_type": "code",
      "execution_count": 4,
      "id": "0v2b7nbRckDr",
      "metadata": {
        "id": "0v2b7nbRckDr"
      },
      "outputs": [],
      "source": [
        "data = pd.read_csv('aspect_sentiment.csv')"
      ]
    },
    {
      "cell_type": "code",
      "execution_count": 11,
      "id": "eKDAMq7W1AAU",
      "metadata": {
        "colab": {
          "base_uri": "https://localhost:8080/",
          "height": 781
        },
        "id": "eKDAMq7W1AAU",
        "outputId": "6e17ccec-144b-4c3d-ef91-a9e19ac1ad21"
      },
      "outputs": [
        {
          "data": {
            "text/html": [
              "<div>\n",
              "<style scoped>\n",
              "    .dataframe tbody tr th:only-of-type {\n",
              "        vertical-align: middle;\n",
              "    }\n",
              "\n",
              "    .dataframe tbody tr th {\n",
              "        vertical-align: top;\n",
              "    }\n",
              "\n",
              "    .dataframe thead th {\n",
              "        text-align: right;\n",
              "    }\n",
              "</style>\n",
              "<table border=\"1\" class=\"dataframe\">\n",
              "  <thead>\n",
              "    <tr style=\"text-align: right;\">\n",
              "      <th></th>\n",
              "      <th>product</th>\n",
              "      <th>review</th>\n",
              "      <th>Clean</th>\n",
              "      <th>Topic 0</th>\n",
              "      <th>Topic 1</th>\n",
              "      <th>Topic 2</th>\n",
              "      <th>Topic 3</th>\n",
              "      <th>Topic 4</th>\n",
              "      <th>Topic 5</th>\n",
              "      <th>Topic 6</th>\n",
              "      <th>Topic 7</th>\n",
              "      <th>Topic 8</th>\n",
              "      <th>Topic 9</th>\n",
              "      <th>predicted_sentiment</th>\n",
              "    </tr>\n",
              "  </thead>\n",
              "  <tbody>\n",
              "    <tr>\n",
              "      <th>0</th>\n",
              "      <td>Samsung Galaxy Buds 2 Pro True Wireless Earbud...</td>\n",
              "      <td>love good audio great battery life noise cance...</td>\n",
              "      <td>['love', 'good', 'audio', 'great', 'battery', ...</td>\n",
              "      <td>1</td>\n",
              "      <td>0</td>\n",
              "      <td>1</td>\n",
              "      <td>0</td>\n",
              "      <td>0</td>\n",
              "      <td>1</td>\n",
              "      <td>0</td>\n",
              "      <td>0</td>\n",
              "      <td>0</td>\n",
              "      <td>0</td>\n",
              "      <td>1</td>\n",
              "    </tr>\n",
              "    <tr>\n",
              "      <th>1</th>\n",
              "      <td>Samsung Galaxy Buds 2 Pro True Wireless Earbud...</td>\n",
              "      <td>used original galaxy pro buds new galaxy pro b...</td>\n",
              "      <td>['use', 'original', 'galaxy', 'pro', 'bud', 'n...</td>\n",
              "      <td>1</td>\n",
              "      <td>0</td>\n",
              "      <td>0</td>\n",
              "      <td>0</td>\n",
              "      <td>0</td>\n",
              "      <td>0</td>\n",
              "      <td>0</td>\n",
              "      <td>1</td>\n",
              "      <td>1</td>\n",
              "      <td>1</td>\n",
              "      <td>0</td>\n",
              "    </tr>\n",
              "    <tr>\n",
              "      <th>2</th>\n",
              "      <td>Samsung Galaxy Buds 2 Pro True Wireless Earbud...</td>\n",
              "      <td>love ear buds</td>\n",
              "      <td>['love', 'ear', 'bud']</td>\n",
              "      <td>0</td>\n",
              "      <td>0</td>\n",
              "      <td>0</td>\n",
              "      <td>0</td>\n",
              "      <td>0</td>\n",
              "      <td>0</td>\n",
              "      <td>0</td>\n",
              "      <td>1</td>\n",
              "      <td>0</td>\n",
              "      <td>0</td>\n",
              "      <td>1</td>\n",
              "    </tr>\n",
              "    <tr>\n",
              "      <th>3</th>\n",
              "      <td>Samsung Galaxy Buds 2 Pro True Wireless Earbud...</td>\n",
              "      <td>went android iphone still work</td>\n",
              "      <td>['go', 'android', 'iphone', 'still', 'work']</td>\n",
              "      <td>0</td>\n",
              "      <td>0</td>\n",
              "      <td>0</td>\n",
              "      <td>0</td>\n",
              "      <td>0</td>\n",
              "      <td>0</td>\n",
              "      <td>0</td>\n",
              "      <td>0</td>\n",
              "      <td>1</td>\n",
              "      <td>0</td>\n",
              "      <td>0</td>\n",
              "    </tr>\n",
              "    <tr>\n",
              "      <th>4</th>\n",
              "      <td>Samsung Galaxy Buds 2 Pro True Wireless Earbud...</td>\n",
              "      <td>sound quality good base levels amazing noise c...</td>\n",
              "      <td>['sound', 'quality', 'good', 'base', 'level', ...</td>\n",
              "      <td>1</td>\n",
              "      <td>0</td>\n",
              "      <td>1</td>\n",
              "      <td>0</td>\n",
              "      <td>0</td>\n",
              "      <td>1</td>\n",
              "      <td>0</td>\n",
              "      <td>0</td>\n",
              "      <td>1</td>\n",
              "      <td>0</td>\n",
              "      <td>1</td>\n",
              "    </tr>\n",
              "  </tbody>\n",
              "</table>\n",
              "</div>"
            ],
            "text/plain": [
              "                                             product  \\\n",
              "0  Samsung Galaxy Buds 2 Pro True Wireless Earbud...   \n",
              "1  Samsung Galaxy Buds 2 Pro True Wireless Earbud...   \n",
              "2  Samsung Galaxy Buds 2 Pro True Wireless Earbud...   \n",
              "3  Samsung Galaxy Buds 2 Pro True Wireless Earbud...   \n",
              "4  Samsung Galaxy Buds 2 Pro True Wireless Earbud...   \n",
              "\n",
              "                                              review  \\\n",
              "0  love good audio great battery life noise cance...   \n",
              "1  used original galaxy pro buds new galaxy pro b...   \n",
              "2                                      love ear buds   \n",
              "3                     went android iphone still work   \n",
              "4  sound quality good base levels amazing noise c...   \n",
              "\n",
              "                                               Clean  Topic 0  Topic 1  \\\n",
              "0  ['love', 'good', 'audio', 'great', 'battery', ...        1        0   \n",
              "1  ['use', 'original', 'galaxy', 'pro', 'bud', 'n...        1        0   \n",
              "2                             ['love', 'ear', 'bud']        0        0   \n",
              "3       ['go', 'android', 'iphone', 'still', 'work']        0        0   \n",
              "4  ['sound', 'quality', 'good', 'base', 'level', ...        1        0   \n",
              "\n",
              "   Topic 2  Topic 3  Topic 4  Topic 5  Topic 6  Topic 7  Topic 8  Topic 9  \\\n",
              "0        1        0        0        1        0        0        0        0   \n",
              "1        0        0        0        0        0        1        1        1   \n",
              "2        0        0        0        0        0        1        0        0   \n",
              "3        0        0        0        0        0        0        1        0   \n",
              "4        1        0        0        1        0        0        1        0   \n",
              "\n",
              "   predicted_sentiment  \n",
              "0                    1  \n",
              "1                    0  \n",
              "2                    1  \n",
              "3                    0  \n",
              "4                    1  "
            ]
          },
          "execution_count": 11,
          "metadata": {},
          "output_type": "execute_result"
        }
      ],
      "source": [
        "data = data.loc[:, ~data.columns.str.contains('^Unnamed')]\n",
        "data.head()"
      ]
    },
    {
      "cell_type": "code",
      "execution_count": 12,
      "id": "BH2vEHTG1BnU",
      "metadata": {
        "colab": {
          "base_uri": "https://localhost:8080/",
          "height": 472
        },
        "id": "BH2vEHTG1BnU",
        "outputId": "cb1f9f4d-ff28-474c-aed3-0bd1d29d8e63"
      },
      "outputs": [
        {
          "data": {
            "image/png": "[encoded data removed]",
            "text/plain": [
              "<Figure size 640x480 with 1 Axes>"
            ]
          },
          "metadata": {},
          "output_type": "display_data"
        }
      ],
      "source": [
        "sentiment_counts = data['predicted_sentiment'].value_counts()\n",
        "plt.bar(sentiment_counts.index, sentiment_counts.values)\n",
        "plt.title(\"Predicted Sentiment Distribution\")\n",
        "plt.xlabel(\"Sentiment\")\n",
        "plt.ylabel(\"Count\")\n",
        "plt.xticks([0, 1], [\"Negative (0)\", \"Positive (1)\"])  # Label the x-axis\n",
        "\n",
        "# Show the plot\n",
        "plt.show()"
      ]
    },
    {
      "cell_type": "markdown",
      "id": "22001755",
      "metadata": {},
      "source": [
        "Product Ranking"
      ]
    },
    {
      "cell_type": "code",
      "execution_count": 22,
      "id": "bMrzerZj2EVc",
      "metadata": {
        "id": "bMrzerZj2EVc"
      },
      "outputs": [],
      "source": [
        "product_lst = [\n",
        "    'Samsung Galaxy Buds 2 Pro True Wireless Earbud Headphones Graphite',\n",
        "    'Beats by Dr Dre  Beats Studio Buds Totally Wireless Noise Cancelling Earbuds  Black',\n",
        "    'Beats by Dr Dre  Geek Squad Certified Refurbished Beats Fit Pro True Wireless Noise Cancelling InEar Headphones Black',\n",
        "    'Beats by Dr Dre  Beats Fit Pro True Wireless Noise Cancelling InEar Earbuds Black',\n",
        "    'Samsung  Galaxy Buds Live True Wireless Earbud Headphones Bronze',\n",
        "    'Samsung  Galaxy Buds2 True Wireless Earbud Headphones  Phantom Black',\n",
        "    'Bose  QuietComfort Earbuds II True Wireless Noise Cancelling InEar Headphones Triple Black',\n",
        "    'Google  Pixel Buds ASeries True Wireless InEar Headphones  Olive',\n",
        "    'JBL  Endurance Peak II True Wireless InEar Earbuds  Black',\n",
        "    'Sony  EX155AP EX Series Wired InEar Headphones  Black',\n",
        "    'JLab  Epic Air Sport ANC True Wireless Earbuds  Black',\n",
        "    'JBL  Reflect Mini True Wireless Noise Cancelling InEar Earbuds Black',\n",
        "    'Apple  EarPods with Lightning Connector  White',\n",
        "    'Sony  MDREX14AP Wired Earbud Headphones  Black',\n",
        "    'JLab  GO Air POP True Wireless InEar Headphones  Black',\n",
        "    'Samsung  Geek Squad Certified Refurbished Galaxy Buds2 True Wireless Earbud Headphones Graphite',\n",
        "    'Sony  WIC310 Wireless InEar Headphones  Black',\n",
        "    'Soundcore by Anker Life Note E Earbuds True Wireless InEar Headphones  Black',\n",
        "    'Jabra  Elite 85t True Wireless Advanced Active Noise Cancelling Earbuds  Titanium Black',\n",
        "    'JLab  JBuds Air Sport True Wireless InEar Headphones  Black',\n",
        "    'JLab  JBuds Pro Signature Wireless Earbud Headphones  Black',\n",
        "    'JLab  Fit Sport Fitness Earbuds Wireless InEar Headphones  Black',\n",
        "    'JLab  GO Air True Wireless InEar Headphones  Navy/Black',\n",
        "    'JVC  Gumy Plus Wired Earbud Headphones  Red',\n",
        "    'Apple  AirPods 3rd generation with Lightning Charging Case  White',\n",
        "    'Apple  AirPods with Charging Case 2nd generation  White'\n",
        "]"
      ]
    },
    {
      "cell_type": "code",
      "execution_count": 23,
      "id": "764659af",
      "metadata": {},
      "outputs": [],
      "source": [
        "# create separate dataframe for every different products and map using dictionary\n",
        "product_dataframes = {}\n",
        "for product_name in product_lst:\n",
        "    product_df = data[data['product'] == product_name]\n",
        "    product_dataframes[product_name] = product_df"
      ]
    },
    {
      "cell_type": "markdown",
      "id": "50b7f9d2",
      "metadata": {},
      "source": [
        "Compute Probability of Positive Sentiment in Each Topic\n",
        "\n",
        "The product with highest probability of positive sentiment for that particular topic will ranked as first"
      ]
    },
    {
      "cell_type": "code",
      "execution_count": 24,
      "id": "e84d5248",
      "metadata": {},
      "outputs": [],
      "source": [
        "def compute_probability(df):\n",
        "    df = df.reset_index(drop = True)\n",
        "    df = df.drop(['product', 'review', 'Clean'], axis = 1)\n",
        "    prob_list = []\n",
        "    for i in range(10):\n",
        "        count = 0\n",
        "        for j in range(len(df)):\n",
        "            # if both particular topic and positive sentiment exist:\n",
        "            if df[f'Topic {i}'][j] == 1 and df['predicted_sentiment'][j] == 1:\n",
        "                count += 1\n",
        "        # compute probability\n",
        "        ans = count / df[f'Topic {i}'].value_counts()[1]\n",
        "        prob_list.append(ans)\n",
        "        \n",
        "    return prob_list"
      ]
    },
    {
      "cell_type": "code",
      "execution_count": 26,
      "id": "81775f50",
      "metadata": {},
      "outputs": [],
      "source": [
        "# compute probabilities of positive sentiment for each topic and map using dictionary\n",
        "product_probabilities = {}\n",
        "\n",
        "for product_name, product_df in product_dataframes.items():\n",
        "    probabilities = compute_probability(product_df)\n",
        "    product_probabilities[product_name] = probabilities"
      ]
    },
    {
      "cell_type": "code",
      "execution_count": 27,
      "id": "d010a5be",
      "metadata": {},
      "outputs": [],
      "source": [
        "def get_nth_element(product_probabilities, n):\n",
        "    return product_probabilities[n]"
      ]
    },
    {
      "cell_type": "code",
      "execution_count": 28,
      "id": "4cbce28c",
      "metadata": {},
      "outputs": [],
      "source": [
        "# rank top 5 products for each topic\n",
        "top_5_products_dict = {}\n",
        "\n",
        "# Iterate through 10 topics and rank the products for each element\n",
        "for n in range(10):\n",
        "    # Sort the product_probabilities dictionary based on the nth element in each list\n",
        "    sorted_product_probabilities = dict(sorted(product_probabilities.items(), key=lambda item: get_nth_element(item[1], n), reverse=True))\n",
        "    \n",
        "    # Get the top 5 products with the highest nth element\n",
        "    top_5_products = list(sorted_product_probabilities.keys())[:5]\n",
        "    \n",
        "    # Store the top 5 products in the dictionary\n",
        "    top_5_products_dict[f'Topic {n}'] = top_5_products"
      ]
    },
    {
      "cell_type": "markdown",
      "id": "c54dbb49",
      "metadata": {},
      "source": [
        "Visualize Results"
      ]
    },
    {
      "cell_type": "code",
      "execution_count": 29,
      "id": "643b9711",
      "metadata": {},
      "outputs": [
        {
          "name": "stdout",
          "output_type": "stream",
          "text": [
            "Top 5 products for Topic 1:\n",
            "1. Apple  AirPods with Charging Case 2nd generation  White: 0.9372659176029963\n",
            "\n",
            "2. Apple  AirPods 3rd generation with Lightning Charging Case  White: 0.9341372912801484\n",
            "\n",
            "3. Apple  EarPods with Lightning Connector  White: 0.9020044543429844\n",
            "\n",
            "4. Beats by Dr Dre  Beats Fit Pro True Wireless Noise Cancelling InEar Earbuds Black: 0.8844282238442822\n",
            "\n",
            "5. Samsung  Galaxy Buds2 True Wireless Earbud Headphones  Phantom Black: 0.8835396607060981\n",
            "\n",
            "Top 5 products for Topic 2:\n",
            "1. Apple  AirPods with Charging Case 2nd generation  White: 0.8364485981308412\n",
            "\n",
            "2. Apple  AirPods 3rd generation with Lightning Charging Case  White: 0.8363636363636363\n",
            "\n",
            "3. Apple  EarPods with Lightning Connector  White: 0.808695652173913\n",
            "\n",
            "4. Samsung  Galaxy Buds Live True Wireless Earbud Headphones Bronze: 0.7751937984496124\n",
            "\n",
            "5. JBL  Reflect Mini True Wireless Noise Cancelling InEar Earbuds Black: 0.7529411764705882\n",
            "\n",
            "Top 5 products for Topic 3:\n",
            "1. Apple  AirPods 3rd generation with Lightning Charging Case  White: 0.7286821705426356\n",
            "\n",
            "2. Apple  AirPods with Charging Case 2nd generation  White: 0.727979274611399\n",
            "\n",
            "3. Beats by Dr Dre  Geek Squad Certified Refurbished Beats Fit Pro True Wireless Noise Cancelling InEar Headphones Black: 0.7225806451612903\n",
            "\n",
            "4. Soundcore by Anker Life Note E Earbuds True Wireless InEar Headphones  Black: 0.6748466257668712\n",
            "\n",
            "5. JLab  Epic Air Sport ANC True Wireless Earbuds  Black: 0.6466876971608833\n",
            "\n",
            "Top 5 products for Topic 4:\n",
            "1. Soundcore by Anker Life Note E Earbuds True Wireless InEar Headphones  Black: 0.8615384615384616\n",
            "\n",
            "2. Apple  AirPods with Charging Case 2nd generation  White: 0.8507462686567164\n",
            "\n",
            "3. Apple  AirPods 3rd generation with Lightning Charging Case  White: 0.8363636363636363\n",
            "\n",
            "4. Beats by Dr Dre  Beats Studio Buds Totally Wireless Noise Cancelling Earbuds  Black: 0.8220338983050848\n",
            "\n",
            "5. Beats by Dr Dre  Beats Fit Pro True Wireless Noise Cancelling InEar Earbuds Black: 0.8181818181818182\n",
            "\n",
            "Top 5 products for Topic 5:\n",
            "1. Samsung Galaxy Buds 2 Pro True Wireless Earbud Headphones Graphite: 0.8033333333333333\n",
            "\n",
            "2. Apple  AirPods with Charging Case 2nd generation  White: 0.7887323943661971\n",
            "\n",
            "3. Apple  AirPods 3rd generation with Lightning Charging Case  White: 0.7794117647058824\n",
            "\n",
            "4. Beats by Dr Dre  Beats Studio Buds Totally Wireless Noise Cancelling Earbuds  Black: 0.7792207792207793\n",
            "\n",
            "5. JLab  GO Air POP True Wireless InEar Headphones  Black: 0.7697368421052632\n",
            "\n",
            "Top 5 products for Topic 6:\n",
            "1. Apple  AirPods with Charging Case 2nd generation  White: 0.823076923076923\n",
            "\n",
            "2. Samsung  Galaxy Buds2 True Wireless Earbud Headphones  Phantom Black: 0.8145695364238411\n",
            "\n",
            "3. Beats by Dr Dre  Geek Squad Certified Refurbished Beats Fit Pro True Wireless Noise Cancelling InEar Headphones Black: 0.8082191780821918\n",
            "\n",
            "4. Samsung Galaxy Buds 2 Pro True Wireless Earbud Headphones Graphite: 0.7973300970873787\n",
            "\n",
            "5. Beats by Dr Dre  Beats Fit Pro True Wireless Noise Cancelling InEar Earbuds Black: 0.7750759878419453\n",
            "\n",
            "Top 5 products for Topic 7:\n",
            "1. Apple  EarPods with Lightning Connector  White: 0.718475073313783\n",
            "\n",
            "2. Apple  AirPods 3rd generation with Lightning Charging Case  White: 0.711764705882353\n",
            "\n",
            "3. Apple  AirPods with Charging Case 2nd generation  White: 0.7039274924471299\n",
            "\n",
            "4. Samsung  Galaxy Buds Live True Wireless Earbud Headphones Bronze: 0.6444444444444445\n",
            "\n",
            "5. JLab  GO Air POP True Wireless InEar Headphones  Black: 0.6429404900816803\n",
            "\n",
            "Top 5 products for Topic 8:\n",
            "1. Apple  EarPods with Lightning Connector  White: 0.7885714285714286\n",
            "\n",
            "2. Sony  EX155AP EX Series Wired InEar Headphones  Black: 0.7872596153846154\n",
            "\n",
            "3. Apple  AirPods 3rd generation with Lightning Charging Case  White: 0.7646219686162625\n",
            "\n",
            "4. Apple  AirPods with Charging Case 2nd generation  White: 0.7484472049689441\n",
            "\n",
            "5. Beats by Dr Dre  Beats Studio Buds Totally Wireless Noise Cancelling Earbuds  Black: 0.7472150814053128\n",
            "\n",
            "Top 5 products for Topic 9:\n",
            "1. Apple  AirPods 3rd generation with Lightning Charging Case  White: 0.856985698569857\n",
            "\n",
            "2. Apple  EarPods with Lightning Connector  White: 0.8421052631578947\n",
            "\n",
            "3. Apple  AirPods with Charging Case 2nd generation  White: 0.833976833976834\n",
            "\n",
            "4. Samsung  Galaxy Buds Live True Wireless Earbud Headphones Bronze: 0.7978395061728395\n",
            "\n",
            "5. Sony  EX155AP EX Series Wired InEar Headphones  Black: 0.7921967769296013\n",
            "\n",
            "Top 5 products for Topic 10:\n",
            "1. Apple  AirPods 3rd generation with Lightning Charging Case  White: 0.8195631528964862\n",
            "\n",
            "2. Apple  AirPods with Charging Case 2nd generation  White: 0.8184791496320524\n",
            "\n",
            "3. Beats by Dr Dre  Beats Studio Buds Totally Wireless Noise Cancelling Earbuds  Black: 0.7514506769825918\n",
            "\n",
            "4. Beats by Dr Dre  Geek Squad Certified Refurbished Beats Fit Pro True Wireless Noise Cancelling InEar Headphones Black: 0.7371007371007371\n",
            "\n",
            "5. Apple  EarPods with Lightning Connector  White: 0.7330873308733087\n",
            "\n"
          ]
        }
      ],
      "source": [
        "# Print the top 5 products for each element with probability\n",
        "for n in range(10):\n",
        "    print(f\"Top 5 products for Topic {n+1}:\")\n",
        "    for i, product in enumerate(top_5_products_dict[f'Topic {n}']):\n",
        "        print(f\"{i+1}. {product}: {product_probabilities[product][n]}\")\n",
        "        print()"
      ]
    },
    {
      "cell_type": "code",
      "execution_count": null,
      "id": "e02b8f6b",
      "metadata": {},
      "outputs": [],
      "source": []
    }
  ],
  "metadata": {
    "accelerator": "GPU",
    "colab": {
      "gpuType": "T4",
      "provenance": []
    },
    "kernelspec": {
      "display_name": "Python 3",
      "name": "python3"
    },
    "language_info": {
      "codemirror_mode": {
        "name": "ipython",
        "version": 3
      },
      "file_extension": ".py",
      "mimetype": "text/x-python",
      "name": "python",
      "nbconvert_exporter": "python",
      "pygments_lexer": "ipython3",
      "version": "3.9.18"
    }
  },
  "nbformat": 4,
  "nbformat_minor": 5
}
