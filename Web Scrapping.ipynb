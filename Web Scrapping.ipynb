{
 "cells": [
  {
   "cell_type": "markdown",
   "id": "dff52612",
   "metadata": {},
   "source": [
    "**Import Modules**"
   ]
  },
  {
   "cell_type": "code",
   "execution_count": 2,
   "id": "bda75321",
   "metadata": {},
   "outputs": [],
   "source": [
    "from selenium import webdriver\n",
    "from selenium.webdriver.chrome.service import Service\n",
    "from selenium.webdriver.support.ui import WebDriverWait\n",
    "from selenium.webdriver.support import expected_conditions as EC\n",
    "from selenium.webdriver.common.by import By\n",
    "from selenium.common.exceptions import NoSuchElementException, TimeoutException, ElementClickInterceptedException\n",
    "import pandas as pd"
   ]
  },
  {
   "cell_type": "markdown",
   "id": "9d28916f",
   "metadata": {},
   "source": [
    "**Define the Chrome Driver**"
   ]
  },
  {
   "cell_type": "code",
   "execution_count": 4,
   "id": "72e801f4",
   "metadata": {},
   "outputs": [],
   "source": [
    "from webdriver_manager.chrome import ChromeDriverManager\n",
    "options = webdriver.ChromeOptions()\n",
    "options.add_argument(\"--lang=en-US\")\n",
    "\n",
    "# ban the picture and css for faster speed\n",
    "prefs = {\"profile.managed_default_content_settings.images\": 0, 'permissions.default.stylesheet': 2}\n",
    "options.add_experimental_option(\"prefs\", prefs)\n",
    "\n",
    "# dirver initialization\n",
    "driver = webdriver.Chrome(options = options, service=Service(ChromeDriverManager().install()))"
   ]
  },
  {
   "cell_type": "markdown",
   "id": "3654bebb",
   "metadata": {},
   "source": [
    "**Define the weblist and number of pages to scrape**"
   ]
  },
  {
   "cell_type": "code",
   "execution_count": 5,
   "id": "4dfecd21",
   "metadata": {},
   "outputs": [],
   "source": [
    "web_dict = {\n",
    "    'Samsung Galaxy Buds 2 Pro True Wireless Earbud Headphones Graphite': \"https://www.bestbuy.com/site/reviews/samsung-galaxy-buds2-pro-true-wireless-earbud-headphones-graphite/6510544?variant=A&page=\",\n",
    "    'Beats by Dr Dre  Beats Studio Buds Totally Wireless Noise Cancelling Earbuds  Black': \"https://www.bestbuy.com/site/reviews/beats-by-dr-dre-beats-studio-buds-totally-wireless-noise-cancelling-earbuds-black/4900915?variant=A&page=\",\n",
    "    'Beats by Dr Dre  Geek Squad Certified Refurbished Beats Fit Pro True Wireless Noise Cancelling InEar Headphones Black': \"https://www.bestbuy.com/site/reviews/beats-by-dr-dre-geek-squad-certified-refurbished-beats-fit-pro-true-wireless-noise-cancelling-in-ear-headphones-black/6490268?variant=A&page=\",\n",
    "    'Beats by Dr Dre  Beats Fit Pro True Wireless Noise Cancelling InEar Earbuds Black': \"https://www.bestbuy.com/site/reviews/beats-by-dr-dre-beats-fit-pro-true-wireless-noise-cancelling-in-ear-earbuds-black/6397391?variant=A&page=\",\n",
    "    'Samsung  Galaxy Buds Live True Wireless Earbud Headphones Bronze': \"https://www.bestbuy.com/site/reviews/samsung-galaxy-buds-live-true-wireless-earbud-headphones-bronze/6422920?variant=A&page=\",\n",
    "    'Samsung  Galaxy Buds2 True Wireless Earbud Headphones  Phantom Black': \"https://www.bestbuy.com/site/reviews/samsung-galaxy-buds2-true-wireless-earbud-headphones-phantom-black/6482071?variant=A&page=\",\n",
    "    'Bose  QuietComfort Earbuds II True Wireless Noise Cancelling InEar Headphones Triple Black': \"https://www.bestbuy.com/site/reviews/bose-quietcomfort-earbuds-ii-true-wireless-noise-cancelling-in-ear-headphones-triple-black/6512575?variant=A&page=\",\n",
    "    'Google  Pixel Buds ASeries True Wireless InEar Headphones  Olive': \"https://www.bestbuy.com/site/reviews/google-pixel-buds-a-series-true-wireless-in-ear-headphones-olive/6461035?variant=A&page=\",\n",
    "    'JBL  Endurance Peak II True Wireless InEar Earbuds  Black': \"https://www.bestbuy.com/site/reviews/jbl-endurance-peak-ii-true-wireless-in-ear-earbuds-black/6432288?variant=A&page=\",\n",
    "    'Sony  EX155AP EX Series Wired InEar Headphones  Black': \"https://www.bestbuy.com/site/reviews/sony-ex155ap-ex-series-wired-in-ear-headphones-black/5899304?variant=A&page=\",\n",
    "    'JLab  Epic Air Sport ANC True Wireless Earbuds  Black': \"https://www.bestbuy.com/site/reviews/jlab-epic-air-sport-anc-true-wireless-earbuds-black/6426501?variant=A&page=\",\n",
    "    'JBL  Reflect Mini True Wireless Noise Cancelling InEar Earbuds Black': \"https://www.bestbuy.com/site/reviews/jbl-reflect-mini-true-wireless-noise-cancelling-in-ear-earbuds-black/6442547?variant=A&page=\",\n",
    "    'Apple  EarPods with Lightning Connector  White': \"https://www.bestbuy.com/site/reviews/apple-earpods-with-lightning-connector-white/5577816?variant=A&page=\",\n",
    "    'Sony  MDREX14AP Wired Earbud Headphones  Black': \"https://www.bestbuy.com/site/reviews/sony-mdrex14ap-wired-earbud-headphones-black/5739305?variant=A&page=\",\n",
    "    'JLab  GO Air POP True Wireless InEar Headphones  Black': \"https://www.bestbuy.com/site/reviews/jlab-go-air-pop-true-wireless-in-ear-headphones-black/6472667?variant=A&page=\",\n",
    "    'Samsung  Geek Squad Certified Refurbished Galaxy Buds2 True Wireless Earbud Headphones Graphite': \"https://www.bestbuy.com/site/reviews/samsung-geek-squad-certified-refurbished-galaxy-buds2-true-wireless-earbud-headphones-graphite/6481385?variant=A&page=\",\n",
    "    'Sony  WIC310 Wireless InEar Headphones  Black': \"https://www.bestbuy.com/site/reviews/sony-wic310-wireless-in-ear-headphones-black/6341024?variant=A&page=\",\n",
    "    'Soundcore by Anker Life Note E Earbuds True Wireless InEar Headphones  Black': \"https://www.bestbuy.com/site/reviews/soundcore-by-anker-life-note-e-earbuds-true-wireless-in-ear-headphones-black/6476202?variant=A&page=\",\n",
    "    'Jabra  Elite 85t True Wireless Advanced Active Noise Cancelling Earbuds  Titanium Black': \"https://www.bestbuy.com/site/reviews/jabra-elite-85t-true-wireless-advanced-active-noise-cancelling-earbuds-titanium-black/6432287?variant=A&page=\",\n",
    "    'JLab  JBuds Air Sport True Wireless InEar Headphones  Black': \"https://www.bestbuy.com/site/reviews/jlab-jbuds-air-sport-true-wireless-in-ear-headphones-black/6344791?variant=A&page=\",\n",
    "    'JLab  JBuds Pro Signature Wireless Earbud Headphones  Black': \"https://www.bestbuy.com/site/reviews/jlab-jbuds-pro-signature-wireless-earbud-headphones-black/5793103?variant=A&page=\",\n",
    "    'JLab  Fit Sport Fitness Earbuds Wireless InEar Headphones  Black': \"https://www.bestbuy.com/site/reviews/jlab-fit-sport-fitness-earbuds-wireless-in-ear-headphones-black/6290530?variant=A&page=\",\n",
    "    'JLab  GO Air True Wireless InEar Headphones  Navy/Black': \"https://www.bestbuy.com/site/reviews/jlab-go-air-true-wireless-in-ear-headphones-navy-black/6396185?variant=A&page=\",\n",
    "    'JVC  Gumy Plus Wired Earbud Headphones  Red': \"https://www.bestbuy.com/site/reviews/jvc-gumy-plus-wired-earbud-headphones-red/1997422?variant=A&page=\",\n",
    "    'Apple  AirPods 3rd generation with Lightning Charging Case  White': \"https://www.bestbuy.com/site/reviews/apple-airpods-3rd-generation-with-lightning-charging-case-white/6376551?variant=A&page=\",\n",
    "    'Apple  AirPods with Charging Case 2nd generation  White': \"https://www.bestbuy.com/site/reviews/apple-airpods-with-charging-case-2nd-generation-white/6084400?variant=A&page=\"\n",
    "}\n",
    "\n",
    "web_pages = {\n",
    "    'Samsung Galaxy Buds 2 Pro True Wireless Earbud Headphones Graphite': 125,\n",
    "    'Beats by Dr Dre  Beats Studio Buds Totally Wireless Noise Cancelling Earbuds  Black': 125,\n",
    "    'Beats by Dr Dre  Geek Squad Certified Refurbished Beats Fit Pro True Wireless Noise Cancelling InEar Headphones Black': 59,\n",
    "    'Beats by Dr Dre  Beats Fit Pro True Wireless Noise Cancelling InEar Earbuds Black': 125,\n",
    "    'Samsung  Galaxy Buds Live True Wireless Earbud Headphones Bronze': 125,\n",
    "    'Samsung  Galaxy Buds2 True Wireless Earbud Headphones  Phantom Black': 125,\n",
    "    'Bose  QuietComfort Earbuds II True Wireless Noise Cancelling InEar Headphones Triple Black': 130,\n",
    "    'Google  Pixel Buds ASeries True Wireless InEar Headphones  Olive': 60,\n",
    "    'JBL  Endurance Peak II True Wireless InEar Earbuds  Black': 54,\n",
    "    'Sony  EX155AP EX Series Wired InEar Headphones  Black': 144,\n",
    "    'JLab  Epic Air Sport ANC True Wireless Earbuds  Black': 114,\n",
    "    'JBL  Reflect Mini True Wireless Noise Cancelling InEar Earbuds Black': 51,\n",
    "    'Apple  EarPods with Lightning Connector  White': 100,\n",
    "    'Sony  MDREX14AP Wired Earbud Headphones  Black': 100,\n",
    "    'JLab  GO Air POP True Wireless InEar Headphones  Black': 125,\n",
    "    'Samsung  Geek Squad Certified Refurbished Galaxy Buds2 True Wireless Earbud Headphones Graphite': 45,\n",
    "    'Sony  WIC310 Wireless InEar Headphones  Black': 125,\n",
    "    'Soundcore by Anker Life Note E Earbuds True Wireless InEar Headphones  Black': 57,\n",
    "    'Jabra  Elite 85t True Wireless Advanced Active Noise Cancelling Earbuds  Titanium Black': 50,\n",
    "    'JLab  JBuds Air Sport True Wireless InEar Headphones  Black': 125,\n",
    "    'JLab  JBuds Pro Signature Wireless Earbud Headphones  Black': 125,\n",
    "    'JLab  Fit Sport Fitness Earbuds Wireless InEar Headphones  Black': 87,\n",
    "    'JLab  GO Air True Wireless InEar Headphones  Navy/Black': 120,\n",
    "    'JVC  Gumy Plus Wired Earbud Headphones  Red': 120,\n",
    "    'Apple  AirPods 3rd generation with Lightning Charging Case  White': 125,\n",
    "    'Apple  AirPods with Charging Case 2nd generation  White': 125\n",
    "}"
   ]
  },
  {
   "cell_type": "markdown",
   "id": "29afb15a",
   "metadata": {},
   "source": [
    "**Scrape the reviews**"
   ]
  },
  {
   "cell_type": "code",
   "execution_count": 6,
   "id": "c1d8a909",
   "metadata": {},
   "outputs": [],
   "source": [
    "css_path_reviews = \"[class='review-item-content col-xs-12 col-md-9'] > [class='ugc-review-body'] > p\""
   ]
  },
  {
   "cell_type": "code",
   "execution_count": 7,
   "id": "abfabf7e",
   "metadata": {},
   "outputs": [],
   "source": [
    "import time\n",
    "total_list = [] # create a list to store all reviews of all products\n",
    "# open the url for driver\n",
    "for name, url in web_dict.items():\n",
    "    reviews_list = []\n",
    "    for i in range(2, web_pages[name]):\n",
    "        driver.get(url+str(i))\n",
    "        # time sleep for avoiding detect, advise set it a little large\n",
    "        time.sleep(2)\n",
    "        review_elements = WebDriverWait(driver, 10).until(EC.presence_of_all_elements_located((By.CSS_SELECTOR, css_path_reviews)))\n",
    "        for j in range(len(review_elements)):\n",
    "            reviews_list.append({'product': name,'review': review_elements[j].text})\n",
    "    total_list += reviews_list"
   ]
  },
  {
   "cell_type": "markdown",
   "id": "74e133ed",
   "metadata": {},
   "source": [
    "**Save scrapped reviews to csv file**"
   ]
  },
  {
   "cell_type": "code",
   "execution_count": 8,
   "id": "986136a5",
   "metadata": {},
   "outputs": [],
   "source": [
    "# save reviews to dataframe and csv file\n",
    "df = pd.DataFrame(total_list)\n",
    "df.to_csv(\"scrape.csv\")"
   ]
  }
 ],
 "metadata": {
  "kernelspec": {
   "display_name": "Python 3 (ipykernel)",
   "language": "python",
   "name": "python3"
  },
  "language_info": {
   "codemirror_mode": {
    "name": "ipython",
    "version": 3
   },
   "file_extension": ".py",
   "mimetype": "text/x-python",
   "name": "python",
   "nbconvert_exporter": "python",
   "pygments_lexer": "ipython3",
   "version": "3.9.12"
  }
 },
 "nbformat": 4,
 "nbformat_minor": 5
}
